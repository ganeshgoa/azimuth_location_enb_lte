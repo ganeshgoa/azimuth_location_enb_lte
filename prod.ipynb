{
 "cells": [
  {
   "cell_type": "code",
   "execution_count": 1,
   "id": "8d2352f6-40f9-48e2-9ebb-e2aeae97fc24",
   "metadata": {},
   "outputs": [],
   "source": [
    "#Import all necessary libraries \n",
    "import pandas as pd\n",
    "import numpy as np\n",
    "import time"
   ]
  },
  {
   "cell_type": "code",
   "execution_count": 2,
   "id": "c92ed312-9bfd-4dd4-b8a2-11e690889dc3",
   "metadata": {},
   "outputs": [],
   "source": [
    "#Start counting time \n",
    "start_time_all = time.time()"
   ]
  },
  {
   "cell_type": "code",
   "execution_count": 3,
   "id": "0a7e1bf2-ec7e-4feb-a053-36f61137bde4",
   "metadata": {},
   "outputs": [
    {
     "name": "stdout",
     "output_type": "stream",
     "text": [
      "--- 10.786967992782593 seconds ---\n"
     ]
    }
   ],
   "source": [
    "#Start time to count of reading the file\n",
    "start_time = time.time()\n",
    "file = pd.read_excel('./test_list_1000.xlsx')\n",
    "print(\"--- %s seconds ---\" % (time.time() - start_time))"
   ]
  },
  {
   "cell_type": "code",
   "execution_count": 4,
   "id": "7816b5a7-6446-4c09-b1f1-cd3c0fcd885e",
   "metadata": {},
   "outputs": [],
   "source": [
    "#Open file with headers and styles of KML file\n",
    "with open('./header_styles.txt') as f:\n",
    "    header = f.read()"
   ]
  },
  {
   "cell_type": "code",
   "execution_count": 5,
   "id": "4c555bfe-8f70-44a8-a591-e62a1d911ad3",
   "metadata": {},
   "outputs": [],
   "source": [
    "#Open file with second tag for document and KML \n",
    "with open('./last.txt') as f:\n",
    "    end = f.read()"
   ]
  },
  {
   "cell_type": "code",
   "execution_count": 6,
   "id": "4ec87325-9103-42c3-8ae7-d017eb2d9e97",
   "metadata": {},
   "outputs": [],
   "source": [
    "#Make a copy of table before modifying. Otherwise python can complain about changing original dataframe.\n",
    "filecp = file.copy()"
   ]
  },
  {
   "cell_type": "code",
   "execution_count": 7,
   "id": "c8095359-8db4-4f79-b65c-6e6cc74dc7ab",
   "metadata": {},
   "outputs": [],
   "source": [
    "#Choose necessary columns with Cell name, Longitude, Latitude, Azimuth\n",
    "df = filecp[['Cell Name', 'Longitude', 'Latitude', 'Azimuth']]"
   ]
  },
  {
   "cell_type": "code",
   "execution_count": 8,
   "id": "faf3738a-f51b-41c2-ba64-5d7b46909dae",
   "metadata": {},
   "outputs": [],
   "source": [
    "#Make a copy of dataframe from previous step cause of the same reason as before\n",
    "dfcp = df.copy()"
   ]
  },
  {
   "cell_type": "code",
   "execution_count": 9,
   "id": "572bfb11-d1f0-4734-933f-1088e164db4d",
   "metadata": {},
   "outputs": [],
   "source": [
    "#This loop for chosing the correct azimuth's picture based on azimuth's value in column \"Azimuth\". \n",
    "#In total we have 4 sectors: \n",
    "#1) between 0 and 90 azimuth degrees\n",
    "#2) between 90 and 180 azimuth degrees\n",
    "#3) between 180 and 270 azimuth degrees\n",
    "#4) between 270 and 359 azimuth degress\n",
    "for index, row in dfcp.iterrows():\n",
    "    if row['Azimuth'] >= 0 and row['Azimuth'] <= 90:\n",
    "        dfcp.loc[index, 'pic'] = '#msn_0_90'\n",
    "    elif row['Azimuth'] > 90 and row['Azimuth'] <= 180:\n",
    "         dfcp.loc[index, 'pic'] = '#msn_90_180'\n",
    "    elif row['Azimuth'] > 180 and row['Azimuth'] <= 270:\n",
    "         dfcp.loc[index, 'pic'] = '#msn_180_270'\n",
    "    elif row['Azimuth'] > 270 and row['Azimuth'] <= 359:\n",
    "         dfcp.loc[index, 'pic'] = '#msn_270_360'\n",
    "    elif np.isnan(row['Azimuth']) == True:\n",
    "         dfcp.loc[index, 'pic'] = '#m_ylw-pushpin'"
   ]
  },
  {
   "cell_type": "code",
   "execution_count": 10,
   "id": "cc485619-8017-4314-8a4f-0867e7543cd1",
   "metadata": {},
   "outputs": [],
   "source": [
    "#This loop for iterating and replacing variables with values longitude, latitude, azimuth, pictures from the dataframe \n",
    "# We iterate row by row and take values of columns: Cell Name, Longitude, Latitude, pic\n",
    "for index, row in dfcp.iterrows():\n",
    "    uniquename = row['Cell Name']\n",
    "    uniquelongitude = str(row['Longitude'])\n",
    "    uniquelatitude = str(row['Latitude'])\n",
    "    picture_name = row['pic']\n",
    "    ss = \"\"\"\n",
    "                <Placemark>\n",
    "\t\t\t<name>\"\"\"+uniquename+\"\"\"</name>\n",
    "\t\t\t<LookAt>\n",
    "\t\t\t\t<longitude>\"\"\"+uniquelongitude+\"\"\"</longitude>\n",
    "\t\t\t\t<latitude>\"\"\"+uniquelatitude+\"\"\"</latitude>\n",
    "\t\t\t\t<altitude>0</altitude>\n",
    "\t\t\t\t<heading>0.02265940054590418</heading>\n",
    "\t\t\t\t<tilt>27.16679567545859</tilt>\n",
    "\t\t\t\t<range>151.0253920290419</range>\n",
    "\t\t\t\t<gx:altitudeMode>relativeToSeaFloor</gx:altitudeMode>\n",
    "\t\t\t</LookAt>\n",
    "\t\t\t<styleUrl>\"\"\"+picture_name+\"\"\"</styleUrl>\n",
    "\t\t\t<Point>\n",
    "\t\t\t\t<gx:drawOrder>1</gx:drawOrder>\n",
    "\t\t\t\t<coordinates>\"\"\"+uniquelongitude+\"\"\",\"\"\"+uniquelatitude+\"\"\",0</coordinates>\n",
    "\t\t\t</Point>\n",
    "\t\t</Placemark>\"\"\"\n",
    "    header = header + ss "
   ]
  },
  {
   "cell_type": "code",
   "execution_count": 11,
   "id": "6d74d142-e2bb-41fb-bb5b-f2470b0a54cf",
   "metadata": {},
   "outputs": [],
   "source": [
    "#Sum all strings \n",
    "total = header + end"
   ]
  },
  {
   "cell_type": "code",
   "execution_count": 12,
   "id": "7d6fc6ef-8b47-4c6f-a84a-2e513a81efbd",
   "metadata": {},
   "outputs": [],
   "source": [
    "#Creating a file to save all output to get a KML file\n",
    "with open('./result.kml', 'w') as f:\n",
    "    f.write(total)"
   ]
  },
  {
   "cell_type": "code",
   "execution_count": 13,
   "id": "90abfb3c-c227-4c2d-99e0-65c539a7e029",
   "metadata": {},
   "outputs": [
    {
     "name": "stdout",
     "output_type": "stream",
     "text": [
      "--- 10.996840715408325 seconds ---\n"
     ]
    }
   ],
   "source": [
    "#Checking total time of executing program\n",
    "print(\"--- %s seconds ---\" % (time.time() - start_time_all))"
   ]
  }
 ],
 "metadata": {
  "kernelspec": {
   "display_name": "Python 3 (ipykernel)",
   "language": "python",
   "name": "python3"
  },
  "language_info": {
   "codemirror_mode": {
    "name": "ipython",
    "version": 3
   },
   "file_extension": ".py",
   "mimetype": "text/x-python",
   "name": "python",
   "nbconvert_exporter": "python",
   "pygments_lexer": "ipython3",
   "version": "3.11.7"
  }
 },
 "nbformat": 4,
 "nbformat_minor": 5
}
